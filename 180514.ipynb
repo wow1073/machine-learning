{
 "cells": [
  {
   "cell_type": "code",
   "execution_count": 4,
   "metadata": {},
   "outputs": [
    {
     "data": {
      "image/png": "[encoded data removed]",
      "text/plain": [
       "<matplotlib.figure.Figure at 0xab55a20>"
      ]
     },
     "metadata": {},
     "output_type": "display_data"
    },
    {
     "ename": "TypeError",
     "evalue": "unhashable type: 'numpy.ndarray'",
     "output_type": "error",
     "traceback": [
      "\u001b[1;31m---------------------------------------------------------------------------\u001b[0m",
      "\u001b[1;31mTypeError\u001b[0m                                 Traceback (most recent call last)",
      "\u001b[1;32m<ipython-input-4-5d43cbdf786a>\u001b[0m in \u001b[0;36m<module>\u001b[1;34m()\u001b[0m\n\u001b[0;32m     10\u001b[0m \u001b[0mtarget\u001b[0m\u001b[1;33m=\u001b[0m\u001b[0mdata\u001b[0m\u001b[1;33m.\u001b[0m\u001b[0mtarget\u001b[0m\u001b[1;33m\u001b[0m\u001b[0m\n\u001b[0;32m     11\u001b[0m \u001b[0mdats\u001b[0m\u001b[1;33m=\u001b[0m\u001b[0mdata\u001b[0m\u001b[1;33m.\u001b[0m\u001b[0mimages\u001b[0m\u001b[1;33m.\u001b[0m\u001b[0mreshape\u001b[0m\u001b[1;33m(\u001b[0m\u001b[0mlen\u001b[0m\u001b[1;33m(\u001b[0m\u001b[0mdata\u001b[0m\u001b[1;33m.\u001b[0m\u001b[0mimages\u001b[0m\u001b[1;33m)\u001b[0m\u001b[1;33m,\u001b[0m\u001b[1;33m-\u001b[0m\u001b[1;36m1\u001b[0m\u001b[1;33m)\u001b[0m\u001b[1;33m\u001b[0m\u001b[0m\n\u001b[1;32m---> 12\u001b[1;33m \u001b[0mtrain\u001b[0m\u001b[1;33m=\u001b[0m\u001b[0mdata\u001b[0m\u001b[1;33m[\u001b[0m\u001b[0mtarget\u001b[0m\u001b[1;33m<\u001b[0m\u001b[1;36m30\u001b[0m\u001b[1;33m]\u001b[0m\u001b[1;33m\u001b[0m\u001b[0m\n\u001b[0m\u001b[0;32m     13\u001b[0m \u001b[0mtest\u001b[0m\u001b[1;33m=\u001b[0m\u001b[0mdata\u001b[0m\u001b[1;33m[\u001b[0m\u001b[0mtarget\u001b[0m\u001b[1;33m>=\u001b[0m\u001b[1;36m30\u001b[0m\u001b[1;33m]\u001b[0m\u001b[1;33m\u001b[0m\u001b[0m\n\u001b[0;32m     14\u001b[0m \u001b[1;33m\u001b[0m\u001b[0m\n",
      "\u001b[1;31mTypeError\u001b[0m: unhashable type: 'numpy.ndarray'"
     ]
    }
   ],
   "source": [
    "from sklearn import datasets\n",
    "import matplotlib.pyplot as plt \n",
    "data=datasets.fetch_olivetti_faces()\n",
    "#print(data.DESCR)\n",
    "#print(data.target)\n",
    "#print(data.data)\n",
    "plt.imshow(data.images[0],cmap='gray',interpolation='nearest')\n",
    "plt.show()\n",
    "\n",
    "target=data.target\n",
    "dats=data.images.reshape(len(data.images),-1)\n",
    "train=data[target<30]\n",
    "test=data[target>=30]\n",
    "\n",
    "n_faces=5\n",
    "from sklearn.utils import check_random_state\n",
    "rng=check_random_state(4)\n",
    "face_ids=rng.randint(test.shape[0],size=(n_faces, ))\n",
    "test=test[face_ids, :]\n",
    "\n",
    "n_pixels=data.shape[1]\n",
    "X_train=train[:,:(n_pixels+1)//2]\n",
    "#臉下半部\n",
    "y_train=train[:, n_pixels//2:]\n",
    "X_test=test[:,:(n_pixels+1)//2]\n",
    "y_test=test[:, n_pixels//2:]\n",
    "\n",
    "from sklearn.linear_model import LinearRegression\n",
    "ESTIMATORS={\n",
    "    \"Linear regression\":LinearRegression(),\n",
    "}\n",
    "y_test_predict=dict() \n",
    "for name,estimator in ESTIMATORS.items():\n",
    "    estimator.fit(X_train,y_train)#模擬訓練\n",
    "    y_test_predict[name]=estimator.predict(X_test)#模擬預測\n"
   ]
  },
  {
   "cell_type": "code",
   "execution_count": null,
   "metadata": {},
   "outputs": [],
   "source": [
    "\n",
    "targeta=data.target\n",
    "dats=data.images.reshape(len(data.images),-1)\n",
    "train=data[target<30]\n",
    "test=data[target>=30]\n",
    "\n",
    "n_faces=5\n",
    "from sklearn.utils import check_random_state\n",
    "rng=check_random_state(4)\n",
    "face_ids=rng.randint(test.shape[0],size=(n_faces, ))\n",
    "test=test[face_ids, :]\n",
    "\n",
    "n_pixels=data.shape[1]\n",
    "X_train=train[:,:(n_pixels+1)//2]\n",
    "#臉下半部\n",
    "y_train=train[:, n_pixels//2:]\n",
    "X_test=test[:,:(n_pixels+1)//2]\n",
    "y_test=test[:, n_pixels//2:]\n",
    "\n",
    "from sklearn.linear_model import LinearRegression\n",
    "ESTIMATORS={\n",
    "    \"Linear regression\":LinearRegression(),\n",
    "}\n",
    "y_test_predict=dict() \n",
    "for name,estimator in ESTIMATORS.items():\n",
    "    estimator.fit(X_train,y_train)#模擬訓練\n",
    "    y_test_predict[name]=estimator.predict(X_test)#模擬預測\n"
   ]
  }
 ],
 "metadata": {
  "kernelspec": {
   "display_name": "Python 3",
   "language": "python",
   "name": "python3"
  },
  "language_info": {
   "codemirror_mode": {
    "name": "ipython",
    "version": 3
   },
   "file_extension": ".py",
   "mimetype": "text/x-python",
   "name": "python",
   "nbconvert_exporter": "python",
   "pygments_lexer": "ipython3",
   "version": "3.6.4"
  }
 },
 "nbformat": 4,
 "nbformat_minor": 2
}
