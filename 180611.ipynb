{
 "cells": [
  {
   "cell_type": "code",
   "execution_count": 1,
   "metadata": {},
   "outputs": [
    {
     "ename": "NameError",
     "evalue": "name 'np' is not defined",
     "output_type": "error",
     "traceback": [
      "\u001b[1;31m---------------------------------------------------------------------------\u001b[0m",
      "\u001b[1;31mNameError\u001b[0m                                 Traceback (most recent call last)",
      "\u001b[1;32m<ipython-input-1-ffb709318ea1>\u001b[0m in \u001b[0;36m<module>\u001b[1;34m()\u001b[0m\n\u001b[0;32m     42\u001b[0m \u001b[0mplt\u001b[0m\u001b[1;33m.\u001b[0m\u001b[0msuptitle\u001b[0m\u001b[1;33m(\u001b[0m\u001b[1;34m\"Face completion with multi-output estimators\"\u001b[0m\u001b[1;33m,\u001b[0m \u001b[0msize\u001b[0m\u001b[1;33m=\u001b[0m\u001b[1;36m16\u001b[0m\u001b[1;33m)\u001b[0m\u001b[1;33m\u001b[0m\u001b[0m\n\u001b[0;32m     43\u001b[0m \u001b[1;32mfor\u001b[0m \u001b[0mi\u001b[0m \u001b[1;32min\u001b[0m \u001b[0mrange\u001b[0m\u001b[1;33m(\u001b[0m\u001b[0mn_faces\u001b[0m\u001b[1;33m)\u001b[0m\u001b[1;33m:\u001b[0m\u001b[1;33m\u001b[0m\u001b[0m\n\u001b[1;32m---> 44\u001b[1;33m     \u001b[0mtrue_face\u001b[0m \u001b[1;33m=\u001b[0m \u001b[0mnp\u001b[0m\u001b[1;33m.\u001b[0m\u001b[0mhstack\u001b[0m\u001b[1;33m(\u001b[0m\u001b[1;33m(\u001b[0m\u001b[0mX_test\u001b[0m\u001b[1;33m[\u001b[0m\u001b[0mi\u001b[0m\u001b[1;33m]\u001b[0m\u001b[1;33m,\u001b[0m \u001b[0my_test\u001b[0m\u001b[1;33m[\u001b[0m\u001b[0mi\u001b[0m\u001b[1;33m]\u001b[0m\u001b[1;33m)\u001b[0m\u001b[1;33m)\u001b[0m\u001b[1;33m\u001b[0m\u001b[0m\n\u001b[0m\u001b[0;32m     45\u001b[0m     \u001b[1;32mif\u001b[0m \u001b[0mi\u001b[0m\u001b[1;33m:\u001b[0m\u001b[1;33m\u001b[0m\u001b[0m\n\u001b[0;32m     46\u001b[0m         \u001b[0msub\u001b[0m \u001b[1;33m=\u001b[0m \u001b[0mplt\u001b[0m\u001b[1;33m.\u001b[0m\u001b[0msubplot\u001b[0m\u001b[1;33m(\u001b[0m\u001b[0mn_faces\u001b[0m\u001b[1;33m,\u001b[0m \u001b[0mn_cols\u001b[0m\u001b[1;33m,\u001b[0m \u001b[0mi\u001b[0m \u001b[1;33m*\u001b[0m \u001b[0mn_cols\u001b[0m \u001b[1;33m+\u001b[0m \u001b[1;36m1\u001b[0m\u001b[1;33m)\u001b[0m\u001b[1;33m\u001b[0m\u001b[0m\n",
      "\u001b[1;31mNameError\u001b[0m: name 'np' is not defined"
     ]
    }
   ],
   "source": [
    "from sklearn import datasets\n",
    "import matplotlib.pyplot as plt\n",
    "data=datasets.fetch_olivetti_faces()\n",
    "#print(data.DESCR)\n",
    "#print(data.target)\n",
    "#print(data.data)\n",
    "#plt.imshow(data.images[0],cmap='gray',interpolation='nearest')\n",
    "#plt.show()\n",
    "#把影像變成一列\n",
    "targets=data.target\n",
    "data=data.images.reshape(len(data.images),-1)\n",
    "#訓練資料30張臉(300張圖片)，測試資料10張臉(100張圖片)\n",
    "train=data[targets<30]\n",
    "test=data[targets>=30]\n",
    "# 從100張測試影像中,亂數選5張出來，變數test的大小變成(5,4096)\n",
    "n_faces = 5\n",
    "from sklearn.utils import check_random_state\n",
    "rng = check_random_state(4)\n",
    "face_ids = rng.randint(test.shape[0], size=(n_faces, ))\n",
    "test = test[face_ids, :]\n",
    "#把每張訓練影像和測試影像都切割成上下兩部分: X人臉上半部分\n",
    "#， Y人臉下半部分。\n",
    "n_pixels = data.shape[1]\n",
    "X_train = train[:, :(n_pixels + 1) // 2]\n",
    "y_train = train[:, n_pixels // 2:]\n",
    "X_test = test[:, :(n_pixels + 1) // 2]\n",
    "y_test = test[:, n_pixels // 2:]\n",
    "#決定預測的演算法\n",
    "from sklearn.linear_model import LinearRegression\n",
    "ESTIMATORS = {\n",
    "    \"Linear regression\": LinearRegression(),\n",
    "}\n",
    "y_test_predict = dict()\n",
    "for name, estimator in ESTIMATORS.items():\n",
    "    estimator.fit(X_train, y_train) #模型訓練\n",
    "    y_test_predict[name] = estimator.predict(X_test) \n",
    "    #模型預測\n",
    "# Plot the completed faces\n",
    "image_shape = (64, 64)\n",
    "n_cols = 1 + len(ESTIMATORS)\n",
    "plt.figure(figsize=(2. * n_cols, 2.26 * n_faces))\n",
    "plt.suptitle(\"Face completion with multi-output estimators\", size=16)\n",
    "for i in range(n_faces):\n",
    "    true_face = np.hstack((X_test[i], y_test[i]))\n",
    "    if i:\n",
    "        sub = plt.subplot(n_faces, n_cols, i * n_cols + 1)\n",
    "    else:\n",
    "        sub = plt.subplot(n_faces, n_cols, i * n_cols + 1, title=\"true faces\")\n",
    "    sub.axis(\"off\")\n",
    "    sub.imshow(true_face.reshape(image_shape), cmap=plt.cm.gray, interpolation=\"nearest\")\n",
    "    for j, est in enumerate(sorted(ESTIMATORS)):\n",
    "        completed_face = np.hstack((X_test[i], y_test_predict[est][i]))\n",
    "        if i:\n",
    "            sub = plt.subplot(n_faces, n_cols, i * n_cols + 2 + j)\n",
    "        else:\n",
    "            sub = plt.subplot(n_faces, n_cols, i * n_cols + 2 + j, title=est)\n",
    "        sub.axis(\"off\")\n",
    "        sub.imshow(completed_face.reshape(image_shape), cmap=plt.cm.gray, interpolation=\"nearest\")\n",
    "plt.show()"
   ]
  },
  {
   "cell_type": "code",
   "execution_count": null,
   "metadata": {},
   "outputs": [],
   "source": []
  }
 ],
 "metadata": {
  "kernelspec": {
   "display_name": "Python 3",
   "language": "python",
   "name": "python3"
  },
  "language_info": {
   "codemirror_mode": {
    "name": "ipython",
    "version": 3
   },
   "file_extension": ".py",
   "mimetype": "text/x-python",
   "name": "python",
   "nbconvert_exporter": "python",
   "pygments_lexer": "ipython3",
   "version": "3.6.4"
  }
 },
 "nbformat": 4,
 "nbformat_minor": 2
}
